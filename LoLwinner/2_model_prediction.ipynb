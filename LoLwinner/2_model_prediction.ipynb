{
 "cells": [
  {
   "cell_type": "markdown",
   "metadata": {
    "toc": true
   },
   "source": [
    "<h1>Table of Contents<span class=\"tocSkip\"></span></h1>\n",
    "<div class=\"toc\"><ul class=\"toc-item\"><li><span><a href=\"#Overview\" data-toc-modified-id=\"Overview-1\"><span class=\"toc-item-num\">1&nbsp;&nbsp;</span>Overview</a></span></li><li><span><a href=\"#Imports\" data-toc-modified-id=\"Imports-2\"><span class=\"toc-item-num\">2&nbsp;&nbsp;</span>Imports</a></span></li><li><span><a href=\"#Loading-features\" data-toc-modified-id=\"Loading-features-3\"><span class=\"toc-item-num\">3&nbsp;&nbsp;</span>Loading features</a></span></li><li><span><a href=\"#Additional-preprocessing\" data-toc-modified-id=\"Additional-preprocessing-4\"><span class=\"toc-item-num\">4&nbsp;&nbsp;</span>Additional preprocessing</a></span></li><li><span><a href=\"#Training-model-and-making-predictions\" data-toc-modified-id=\"Training-model-and-making-predictions-5\"><span class=\"toc-item-num\">5&nbsp;&nbsp;</span>Training model and making predictions</a></span></li><li><span><a href=\"#Plotting-results\" data-toc-modified-id=\"Plotting-results-6\"><span class=\"toc-item-num\">6&nbsp;&nbsp;</span>Plotting results</a></span></li></ul></div>"
   ]
  },
  {
   "cell_type": "markdown",
   "metadata": {},
   "source": [
    "# Overview\n",
    "\n",
    "In this step of the pipeline, we train our **Logistic Regression** binary classifier on the data and test its performance.\n",
    "\n",
    "We measure the model performance using **accuracy**, i.e., the fraction of matches in which the model predicts the correct winner. The model accuracy is ~84% at minute 24. Included at the bottom of this notebook is a plot of model performance.\n",
    "\n",
    "We note that performance worsens for longer matches. One possible explanation for this may be that longer matches have greater balance between teams. For example, items that can be upgraded only have three tiers; once upgraded to the third tier, the item is in its final state and can no longer be improved.\n",
    "- A possible next step would be to test this and similar item-related hypotheses by analyzing data on item upgrades, e.g., at what minute in the game do teams (on average) finish upgrading their items?"
   ]
  },
  {
   "cell_type": "markdown",
   "metadata": {},
   "source": [
    "# Imports"
   ]
  },
  {
   "cell_type": "code",
   "execution_count": 67,
   "metadata": {},
   "outputs": [],
   "source": [
    "import numpy as np\n",
    "from sklearn.linear_model import LogisticRegressionCV\n",
    "from sklearn.model_selection import KFold\n",
    "from sklearn.metrics import accuracy_score, roc_auc_score\n",
    "from scipy import interp\n",
    "\n",
    "import matplotlib.pyplot as plt\n",
    "%matplotlib inline\n",
    "\n",
    "import warnings\n",
    "warnings.filterwarnings('ignore')\n",
    "\n",
    "from lib import feature_calculators\n",
    "from importlib import reload\n",
    "reload(feature_calculators);\n",
    "\n",
    "LOG_LEVEL = 'Off'"
   ]
  },
  {
   "cell_type": "markdown",
   "metadata": {},
   "source": [
    "# Loading features"
   ]
  },
  {
   "cell_type": "code",
   "execution_count": 49,
   "metadata": {},
   "outputs": [],
   "source": [
    "fin = 'lolwinner_data.npz'\n",
    "\n",
    "df = np.load(fin)\n",
    "\n",
    "duration = df['duration']"
   ]
  },
  {
   "cell_type": "markdown",
   "metadata": {},
   "source": [
    "**Filter matches**. Retain only matches that we actually care about (e.g., exclude matches that end in surrender)"
   ]
  },
  {
   "cell_type": "code",
   "execution_count": 50,
   "metadata": {},
   "outputs": [],
   "source": [
    "# Min and max duration in minutes\n",
    "min_duration = 20\n",
    "max_duration = 60\n",
    "\n",
    "considered_matches = np.where(\n",
    "    (duration / 60 >= min_duration) &\n",
    "    (duration / 60 <= max_duration)\n",
    "    )[0]"
   ]
  },
  {
   "cell_type": "code",
   "execution_count": 51,
   "metadata": {},
   "outputs": [],
   "source": [
    "total_gold = df['total_gold'][considered_matches]\n",
    "winners = Y_all = df['winners'][considered_matches]\n",
    "versions = df['versions'][considered_matches]\n",
    "champions = df['champions'][considered_matches]\n",
    "player_tiers = df['player_tiers'][considered_matches]\n",
    "num_frames = df['num_frames'][considered_matches]\n",
    "kills = df['kills'][considered_matches]\n",
    "buildings = df['buildings'][considered_matches]\n",
    "monsters = df['monsters'][considered_matches]\n",
    "\n",
    "gold_diff = total_gold[:, :, 2]"
   ]
  },
  {
   "cell_type": "markdown",
   "metadata": {},
   "source": [
    "# Additional preprocessing\n",
    "\n",
    "Here, we scale gold and create a feature tensor\n",
    "\n",
    "**Set of features**\n",
    "\n",
    "We use four features:\n",
    "\n",
    "|Feature | Description | Dimension |\n",
    "|--- | --- | ---\n",
    "|`gold_diff` | Difference in total accumulated gold between Blue and Red | `(num_samples, max_frames)`\n",
    "|`kills` | Difference in kills between Blue and Red | `(num_samples, max_frames)`\n",
    "|`buildings` | Difference in buildings destroyed (for five building types) between Blue and Red | `(num_samples, max_frames, 5)`\n",
    "|`monsters` | Difference in elite monsters destroyed (for seven monster types) between Blue and Red | `(num_samples, max_frames, 7)`\n",
    "\n",
    "where\n",
    "\n",
    "`num_samples` is the number of matches in our data set and\n",
    "\n",
    "`max_frames` is the max number of frames across samples (i.e., longest duration in minutes)\n",
    "\n",
    "**Scaling gold and combining features into single tensor**\n",
    "\n",
    "- We perform min-max scaling to `gold_diff` to the range `[-1,1]`.\n",
    "\n",
    "- For ease of use in model, we combine the four features into a single tensor with dimension\n",
    "\n",
    "    `(num_samples, max_frames, 14 = 1 + 1 + 5 + 7)`"
   ]
  },
  {
   "cell_type": "code",
   "execution_count": 66,
   "metadata": {},
   "outputs": [
    {
     "name": "stdout",
     "output_type": "stream",
     "text": [
      "(54494, 72, 1)\n",
      "(54494, 72, 1)\n",
      "(54494, 72, 5)\n",
      "(54494, 72, 7)\n",
      "(54494, 72, 14)\n"
     ]
    }
   ],
   "source": [
    "gold_diff_rescaled = feature_calculators.rescale_tensor(gold_diff)\n",
    "gold_diff_reshape = gold_diff.reshape((gold_diff.shape[0], gold_diff.shape[1], 1))\n",
    "kills_reshape = kills.reshape((kills.shape[0], kills.shape[1], 1))\n",
    "X_all = np.concatenate((gold_diff_reshape, kills_reshape, buildings, monsters), axis=2)\n",
    "\n",
    "print(gold_diff_reshape.shape)\n",
    "print(kills_reshape.shape)\n",
    "print(buildings.shape)\n",
    "print(monsters.shape)\n",
    "print(X_all.shape)"
   ]
  },
  {
   "cell_type": "markdown",
   "metadata": {},
   "source": [
    "# Training model and making predictions"
   ]
  },
  {
   "cell_type": "markdown",
   "metadata": {},
   "source": [
    "We train a **Logistic Regression** model with **L2 regularization**. The data is divided into train / cross-validation / test sets as follows:\n",
    "- To reduce variance from selection of test set, perform 5-fold split of data into a (training + CV) set and a test set\n",
    "- To optimize regularization hyperparameter, perform 5-fold cross-validation within (training + CV) set"
   ]
  },
  {
   "cell_type": "code",
   "execution_count": 58,
   "metadata": {},
   "outputs": [],
   "source": [
    "def run_logistic_regression(X_train, Y_train, X_test, cv = 5):\n",
    "    \"\"\"runs logistic regression\n",
    "\n",
    "    returns accuracy on training set, and predictions\n",
    "    \"\"\"\n",
    "    model = LogisticRegressionCV(cv = cv)\n",
    "    model.fit(X_train, Y_train)\n",
    "    Y_pred = model.predict(X_test)\n",
    "    accuracy = round(model.score(X_train, Y_train) * 100, 2)\n",
    "    Y_pred_prob = model.predict_proba(X_test)\n",
    "    return accuracy, Y_pred, Y_pred_prob, model.coef_"
   ]
  },
  {
   "cell_type": "code",
   "execution_count": null,
   "metadata": {},
   "outputs": [],
   "source": [
    "# minutes in game to analyze\n",
    "start = 0\n",
    "end = 40\n",
    "\n",
    "# how many prior minutes to include\n",
    "trailing_window = 4\n",
    "\n",
    "# seed for RNG\n",
    "seed = 42\n",
    "\n",
    "auc_by_frame = []\n",
    "acc_train_by_frame = []\n",
    "acc_test_by_frame = []\n",
    "N_by_frame = []\n",
    "coef = []\n",
    "\n",
    "#base_fpr = np.linspace(0, 1, 101)\n",
    "\n",
    "for frame in range(start, end):\n",
    "\n",
    "    earliest_frame = max(0, frame - trailing_window)\n",
    "\n",
    "    # filter out matches that have ended by this minute\n",
    "    matches = np.where((num_frames > frame))[0]\n",
    "\n",
    "    X = X_all[matches][:, earliest_frame:frame + 1, ]\n",
    "\n",
    "    X = X.reshape((X.shape[0], X.shape[1] * X.shape[2]))\n",
    "\n",
    "    Y = Y_all[matches]\n",
    "    \n",
    "    kf = KFold(n_splits = 5)\n",
    "\n",
    "    try:\n",
    "        \n",
    "        cv_auc = []\n",
    "        cv_acc_train = []\n",
    "        cv_acc_test = []\n",
    "        cv_coef = []\n",
    "        \n",
    "        for train_index, test_index in kf.split(X):\n",
    "\n",
    "            train_X = X[train_index]\n",
    "            train_Y = Y[train_index]\n",
    "\n",
    "            test_X = X[test_index]\n",
    "            test_Y = Y[test_index]\n",
    "\n",
    "            acc_train, Y_pred, Y_pred_prob, model_coef = run_logistic_regression(\n",
    "                train_X, train_Y, test_X, cv=5)\n",
    "\n",
    "            cv_coef.append(model_coef)\n",
    "\n",
    "            Y_pred_prob = Y_pred_prob[:, 1]\n",
    "            acc_test = accuracy_score(test_Y, Y_pred) * 100\n",
    "    #         fpr, tpr, thresholds = metrics.roc_curve(\n",
    "    #             test_Y, Y_pred_prob, pos_label=1)\n",
    "    #         tpr = interp(base_fpr, fpr, tpr)\n",
    "    #         tpr[0] = 0.0\n",
    "            auc = roc_auc_score(test_Y, Y_pred_prob)\n",
    "            print(\n",
    "                'frame: %d, train: %0.2f, test: %0.2f, AUC: %0.2f, N: %d\\n' %\n",
    "                (frame, acc_train, acc_test, auc, len(X)),\n",
    "                end='')\n",
    "            \n",
    "            cv_auc.append(auc)\n",
    "            cv_acc_train.append(acc_train)\n",
    "            cv_acc_test.append(acc_test)\n",
    "\n",
    "        auc_by_frame.append(np.mean(cv_auc))\n",
    "        acc_train_by_frame.append(np.mean(cv_acc_train))\n",
    "        acc_test_by_frame.append(np.mean(cv_acc_test))\n",
    "        N_by_frame.append(len(X))\n",
    "        coef.append(np.mean(cv_coef,axis=1))\n",
    "\n",
    "    except:\n",
    "\n",
    "            print('frame: ', frame, '...issue')\n",
    "\n",
    "coef = np.array([np.array(x[0]) for x in coef])"
   ]
  },
  {
   "cell_type": "markdown",
   "metadata": {},
   "source": [
    "# Plotting results"
   ]
  },
  {
   "cell_type": "markdown",
   "metadata": {},
   "source": [
    "**The model has a peak test accuracy of ~84% at minute 24.**\n",
    "\n",
    "To improve *early-game* performance, we could incorporate prior player histories, e.g., average win rate over last 100 matches by each player, for the champion (character) that they have selected\n",
    "\n",
    "To improve *late-game* performance, we could consider:\n",
    "- **Additional features**. Examples: interaction terms between features, new features such as champions (characters) chosen\n",
    "- **Additional model complexity**. Example: hierarchical model that condition predictions based on which buildings have been destroyed\n",
    "\n",
    "Rationale for using accuracy as performance metric: \n",
    "- **Balanced data set**. Roughly 50/50 between Blue wins and Red wins\n",
    "    - Interesting that Blue wins with slightly higher frequency (this is a well-known phenomenon among the League of Legends player community)\n",
    "- **Symmetry of problem**. We are interested in predicting *winners*, irrespective of which team actually won"
   ]
  },
  {
   "cell_type": "code",
   "execution_count": 85,
   "metadata": {},
   "outputs": [
    {
     "data": {
      "image/png": "[encoded data removed]",
      "text/plain": [
       "<Figure size 864x576 with 1 Axes>"
      ]
     },
     "metadata": {},
     "output_type": "display_data"
    }
   ],
   "source": [
    "fig, ax = plt.subplots(figsize=(12,8))\n",
    "#plt.plot(np.array(auc_by_frame)*100,label='AUC',marker='o')\n",
    "#plt.plot(acc_train_by_frame,label='Train accuracy',marker='o')\n",
    "plt.plot(acc_test_by_frame,label='Test accuracy',marker='o')\n",
    "plt.legend(fontsize=15)\n",
    "plt.ylim(50,100)\n",
    "plt.xlim(0,40)\n",
    "plt.xlabel('Time in game (minutes)',fontsize=20)\n",
    "plt.title('Test accuracy of logistic regression model\\nPercent',loc='left',fontsize=20);"
   ]
  }
 ],
 "metadata": {
  "kernelspec": {
   "display_name": "Python 3",
   "language": "python",
   "name": "python3"
  },
  "language_info": {
   "codemirror_mode": {
    "name": "ipython",
    "version": 3
   },
   "file_extension": ".py",
   "mimetype": "text/x-python",
   "name": "python",
   "nbconvert_exporter": "python",
   "pygments_lexer": "ipython3",
   "version": "3.6.5"
  },
  "toc": {
   "base_numbering": 1,
   "nav_menu": {},
   "number_sections": true,
   "sideBar": true,
   "skip_h1_title": false,
   "title_cell": "Table of Contents",
   "title_sidebar": "Contents",
   "toc_cell": true,
   "toc_position": {},
   "toc_section_display": true,
   "toc_window_display": false
  }
 },
 "nbformat": 4,
 "nbformat_minor": 2
}
