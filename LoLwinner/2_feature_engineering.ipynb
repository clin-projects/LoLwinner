{
 "cells": [
  {
   "cell_type": "markdown",
   "metadata": {
    "toc": true
   },
   "source": [
    "<h1>Table of Contents<span class=\"tocSkip\"></span></h1>\n",
    "<div class=\"toc\"><ul class=\"toc-item\"><li><span><a href=\"#Overview\" data-toc-modified-id=\"Overview-1\"><span class=\"toc-item-num\">1&nbsp;&nbsp;</span>Overview</a></span></li><li><span><a href=\"#Imports\" data-toc-modified-id=\"Imports-2\"><span class=\"toc-item-num\">2&nbsp;&nbsp;</span>Imports</a></span></li><li><span><a href=\"#Loading-data\" data-toc-modified-id=\"Loading-data-3\"><span class=\"toc-item-num\">3&nbsp;&nbsp;</span>Loading data</a></span></li><li><span><a href=\"#Feature-selection-/-engineering\" data-toc-modified-id=\"Feature-selection-/-engineering-4\"><span class=\"toc-item-num\">4&nbsp;&nbsp;</span>Feature selection / engineering</a></span></li><li><span><a href=\"#Processing-features\" data-toc-modified-id=\"Processing-features-5\"><span class=\"toc-item-num\">5&nbsp;&nbsp;</span>Processing features</a></span></li><li><span><a href=\"#Saving-data\" data-toc-modified-id=\"Saving-data-6\"><span class=\"toc-item-num\">6&nbsp;&nbsp;</span>Saving data</a></span></li></ul></div>"
   ]
  },
  {
   "cell_type": "markdown",
   "metadata": {},
   "source": [
    "# Overview\n",
    "\n",
    "This file creates the features used for LoLwinner, using data scraped using the official League of Legends API\n",
    "\n",
    "**Table of features** (TBC)\n",
    "\n",
    "| Feature | Description | Dimension | Values |\n",
    "| --- | --- | --- |\n",
    "|`winners`           |Match winner|scalar|1: Blue wins, 0: red wins\n",
    "|`current_gold`      ||\n",
    "|`total_gold`        ||\n",
    "|`xp`                ||\n",
    "|`max_current_gold`  ||\n",
    "|`max_total_gold`    ||\n",
    "|`max_xp`            ||\n",
    "|`champions`         |Champions (characters) selected by each player|Champion_ID integer\n",
    "|`kills`             |Number of opponents killed by each team|\n",
    "|`buildings`         ||\n",
    "|`monsters`          ||\n",
    "|`num_frames`        ||\n",
    "|`match_ids`         ||\n",
    "|`team_stats`        ||\n",
    "|`duration`          ||\n",
    "|`player_tiers`      ||\n",
    "|`versions`          ||\n",
    "|`game_types`        ||"
   ]
  },
  {
   "cell_type": "markdown",
   "metadata": {},
   "source": [
    "# Imports"
   ]
  },
  {
   "cell_type": "code",
   "execution_count": 14,
   "metadata": {
    "ExecuteTime": {
     "end_time": "2018-10-26T00:23:36.133597Z",
     "start_time": "2018-10-26T00:23:36.121722Z"
    }
   },
   "outputs": [
    {
     "name": "stdout",
     "output_type": "stream",
     "text": [
      "The autoreload extension is already loaded. To reload it, use:\n",
      "  %reload_ext autoreload\n"
     ]
    },
    {
     "data": {
      "text/plain": [
       "<module 'lib.feature_extraction_helper' from '/Users/ccl/anaconda3/envs/LoL/lib/feature_extraction_helper.py'>"
      ]
     },
     "execution_count": 14,
     "metadata": {},
     "output_type": "execute_result"
    }
   ],
   "source": [
    "import glob\n",
    "import json\n",
    "import numpy as np\n",
    "np.set_printoptions(suppress=True)\n",
    "\n",
    "import warnings\n",
    "warnings.filterwarnings('ignore')\n",
    "\n",
    "# helper functions for extraction features\n",
    "from lib import feature_extraction_helper\n",
    "\n",
    "from importlib import reload\n",
    "reload(feature_extraction_helper)"
   ]
  },
  {
   "cell_type": "markdown",
   "metadata": {},
   "source": [
    "# Loading data"
   ]
  },
  {
   "cell_type": "markdown",
   "metadata": {},
   "source": [
    "Loading the timeline data for *expert* (\"challenger\") level matches. This represents ~7.5K matches out of the downloaded set of ~55K.\n",
    "\n",
    "Note that every match has two files associated with it:\n",
    "\n",
    "1. **timeline** file:\n",
    "    - Contains: Minute-level in-game data\n",
    "    - Further details: [see documentation here](https://developer.riotgames.com/api-methods/#match-v3/GET_getMatchTimeline)  \n",
    "<br/>\n",
    "2. **match** file:\n",
    "    - Contains: Metadata and other data about match (e.g., game mode, game map)\n",
    "    - Further details: [see documentation here](https://developer.riotgames.com/api-methods/#match-v3/GET_getMatch)"
   ]
  },
  {
   "cell_type": "code",
   "execution_count": 2,
   "metadata": {
    "ExecuteTime": {
     "end_time": "2018-10-26T00:23:48.359358Z",
     "start_time": "2018-10-26T00:23:48.288676Z"
    }
   },
   "outputs": [
    {
     "name": "stdout",
     "output_type": "stream",
     "text": [
      "7539 files\n"
     ]
    }
   ],
   "source": [
    "# load the names of all timeline files\n",
    "\n",
    "timeline_filenames_format = './dat_challenger_only/*timeline*'\n",
    "\n",
    "timeline_filenames = glob.glob(timeline_filenames_format)\n",
    "\n",
    "print(len(timeline_filenames), 'files')"
   ]
  },
  {
   "cell_type": "markdown",
   "metadata": {},
   "source": [
    "# Feature selection / engineering"
   ]
  },
  {
   "cell_type": "markdown",
   "metadata": {},
   "source": [
    "Several features are selected / engineered using the **timeline** and **match** files.\n",
    "\n",
    "The `features` hashtable stores features for each match, such that each `feature` in `features` has dimensions of\n",
    "\n",
    "`(number of matches) x (dimension of feature)`"
   ]
  },
  {
   "cell_type": "code",
   "execution_count": 3,
   "metadata": {
    "ExecuteTime": {
     "end_time": "2018-10-26T00:23:52.062412Z",
     "start_time": "2018-10-26T00:23:52.048549Z"
    }
   },
   "outputs": [],
   "source": [
    "features = {\n",
    "    'winners'           : [],\n",
    "    'current_gold'      : [],\n",
    "    'total_gold'        : [],\n",
    "    'xp'                : [],\n",
    "    'max_current_gold'  : [],\n",
    "    'max_total_gold'    : [],\n",
    "    'max_xp'            : [],\n",
    "    'champions'         : [],\n",
    "    'kills'             : [],\n",
    "    'buildings'         : [],\n",
    "    'monsters'          : [],\n",
    "    'num_frames'        : [],\n",
    "    'match_ids'         : [],\n",
    "    'team_stats'        : [],\n",
    "    'duration'          : [],\n",
    "    'player_tiers'      : [],\n",
    "    'versions'          : [],\n",
    "    'game_types'        : []\n",
    "}"
   ]
  },
  {
   "cell_type": "code",
   "execution_count": 4,
   "metadata": {
    "ExecuteTime": {
     "end_time": "2018-10-26T00:27:46.416043Z",
     "start_time": "2018-10-26T00:27:37.914899Z"
    }
   },
   "outputs": [
    {
     "name": "stdout",
     "output_type": "stream",
     "text": [
      "0\n",
      "500\n",
      "1000\n",
      "1500\n",
      "2000\n",
      "2500\n",
      "3000\n",
      "3500\n",
      "4000\n",
      "4500\n",
      "5000\n",
      "5500\n",
      "6000\n",
      "6500\n",
      "7000\n",
      "7500\n"
     ]
    }
   ],
   "source": [
    "for i, timeline_filename in enumerate(timeline_filenames):\n",
    "\n",
    "    if i % 500 == 0: print(i)\n",
    "\n",
    "    match_filename = timeline_filename.replace('timeline', 'match')\n",
    "\n",
    "    with open(timeline_filename, 'r') as timeline_file, open(\n",
    "            match_filename, 'r') as match_file:\n",
    "\n",
    "        match_json = json.load(match_file)\n",
    "\n",
    "        if not feature_extraction_helper.valid_match(match_json): continue\n",
    "\n",
    "        timeline_json = json.load(timeline_file)\n",
    "\n",
    "        try:\n",
    "            team_current_gold, team_total_gold, team_xp, team_max_current_gold, team_max_total_gold, team_max_xp, frames = feature_extraction_helper.get_dat(\n",
    "                timeline_json)\n",
    "            current_tiers = [\n",
    "                match_json['participants'][i]['highestAchievedSeasonTier']\n",
    "                for i in range(10)\n",
    "            ]\n",
    "        except:\n",
    "            continue\n",
    "\n",
    "        features['winners'].append(\n",
    "            (match_json['teams'][0]['win'] == 'Fail') * 1)\n",
    "        features['current_gold'].append(team_current_gold)\n",
    "        features['total_gold'].append(team_total_gold)\n",
    "        features['xp'].append(team_xp)\n",
    "        features['max_current_gold'].append(team_max_current_gold)\n",
    "        features['max_total_gold'].append(team_max_total_gold)\n",
    "        features['max_xp'].append(team_max_xp)\n",
    "        features['champions'].append(\n",
    "            feature_extraction_helper.get_champion_ids(match_json, 10))\n",
    "        features['kills'].append(\n",
    "            feature_extraction_helper.get_kills_by_match(timeline_json))\n",
    "        features['buildings'].append(\n",
    "            feature_extraction_helper.get_buildings_by_match(timeline_json))\n",
    "        features['monsters'].append(\n",
    "            feature_extraction_helper.get_monsters_by_match(timeline_json))\n",
    "        features['num_frames'].append(frames)\n",
    "        features['match_ids'].append(match_json['gameId'])\n",
    "        features['team_stats'].append(\n",
    "            feature_extraction_helper.get_team_stats(match_json))\n",
    "        features['duration'].append(match_json['gameDuration'])\n",
    "        features['player_tiers'].append(current_tiers)\n",
    "        features['versions'].append(match_json['gameVersion'])\n",
    "        features['game_types'].append(match_json['gameType'])"
   ]
  },
  {
   "cell_type": "markdown",
   "metadata": {},
   "source": [
    "# Processing features"
   ]
  },
  {
   "cell_type": "markdown",
   "metadata": {},
   "source": [
    "We pad the data tensors with zeros, to simplify our analysis"
   ]
  },
  {
   "cell_type": "code",
   "execution_count": 5,
   "metadata": {
    "ExecuteTime": {
     "end_time": "2018-10-26T00:22:01.027440Z",
     "start_time": "2018-10-26T00:21:29.816Z"
    }
   },
   "outputs": [
    {
     "name": "stdout",
     "output_type": "stream",
     "text": [
      "7302 valid matches\n",
      "72 max frames\n"
     ]
    }
   ],
   "source": [
    "num_matches = len(features['winners'])\n",
    "max_frames = max(features['num_frames'])\n",
    "\n",
    "print(num_matches, 'valid matches')\n",
    "print(max_frames, 'max frames')"
   ]
  },
  {
   "cell_type": "code",
   "execution_count": 15,
   "metadata": {
    "ExecuteTime": {
     "end_time": "2018-10-25T22:58:24.682065Z",
     "start_time": "2018-10-25T22:58:24.650043Z"
    }
   },
   "outputs": [],
   "source": [
    "tensor_features = {}\n",
    "\n",
    "tensor_features['winners'] = np.array(features['winners'])\n",
    "tensor_features['current_gold'] = feature_extraction_helper.convert_to_tensor(\n",
    "   features['current_gold'], num_matches, max_frames)\n",
    "tensor_features['total_gold'] = feature_extraction_helper.convert_to_tensor(\n",
    "    features['total_gold'], num_matches, max_frames)\n",
    "tensor_features['xp'] = feature_extraction_helper.convert_to_tensor(features['xp'], num_matches,\n",
    "                                          max_frames)\n",
    "tensor_features['max_current_gold'] = feature_extraction_helper.convert_to_tensor(\n",
    "    features['max_current_gold'], num_matches, max_frames)\n",
    "tensor_features['max_total_gold'] = feature_extraction_helper.convert_to_tensor(\n",
    "    features['max_total_gold'], num_matches, max_frames)\n",
    "tensor_features['max_xp'] = feature_extraction_helper.convert_to_tensor(features['max_xp'], num_matches,\n",
    "                                              max_frames)\n",
    "tensor_features['champions'] = np.array(features['champions'])\n",
    "tensor_features['kills'] = feature_extraction_helper.convert_to_tensor(features['kills'], num_matches,\n",
    "                                             max_frames)\n",
    "tensor_features['buildings'] = feature_extraction_helper.convert_to_tensor(\n",
    "    features['buildings'], num_matches, max_frames, 3)\n",
    "tensor_features['monsters'] = feature_extraction_helper.convert_to_tensor(\n",
    "    features['monsters'], num_matches, max_frames, 3)\n",
    "tensor_features['num_frames'] = np.array(features['num_frames'])\n",
    "tensor_features['team_stats'] = np.array(features['team_stats'])\n",
    "tensor_features['duration'] = np.array(features['duration'])\n",
    "tensor_features['versions'] = np.array(features['versions'])\n",
    "tensor_features['game_types'] = np.array(features['game_types'])\n",
    "\n",
    "map_player_tiers = {\n",
    "    'UNRANKED': 0,\n",
    "    'BRONZE': 1,\n",
    "    'SILVER': 2,\n",
    "    'GOLD': 3,\n",
    "    'PLATINUM': 4,\n",
    "    'DIAMOND': 5,\n",
    "    'MASTER': 6,\n",
    "    'CHALLENGER': 7\n",
    "}\n",
    "tensor_features['player_tiers'] = np.vectorize(map_player_tiers.get)(np.array(\n",
    "    features['player_tiers']))"
   ]
  },
  {
   "cell_type": "markdown",
   "metadata": {},
   "source": [
    "**Outputting dimensions of feature tensor.**\n",
    "\n",
    "Dimensions are of the form\n",
    "\n",
    "`(N, M_1, M_2, ...)`\n",
    "\n",
    "where\n",
    "\n",
    "`N` is number of matches and\n",
    "\n",
    "`(M_1, M_2, ...)` is dimensions of the feature\n",
    "\n",
    "(For scalar features, dimension is `(N,)`"
   ]
  },
  {
   "cell_type": "code",
   "execution_count": 21,
   "metadata": {},
   "outputs": [
    {
     "name": "stdout",
     "output_type": "stream",
     "text": [
      "winners              (7302,)     \n",
      "current_gold         (7302, 72, 3)\n",
      "total_gold           (7302, 72, 3)\n",
      "xp                   (7302, 72, 3)\n",
      "max_current_gold     (7302, 72, 3)\n",
      "max_total_gold       (7302, 72, 3)\n",
      "max_xp               (7302, 72, 3)\n",
      "champions            (7302, 10)  \n",
      "kills                (7302, 72, 3)\n",
      "buildings            (7302, 72, 3, 5)\n",
      "monsters             (7302, 72, 3, 7)\n",
      "num_frames           (7302,)     \n",
      "team_stats           (7302, 6)   \n",
      "duration             (7302,)     \n",
      "versions             (7302,)     \n",
      "game_types           (7302,)     \n",
      "player_tiers         (7302, 10)  \n"
     ]
    }
   ],
   "source": [
    "for feature in tensor_features.keys():\n",
    "    print('{:<20} {:<12}'.format(feature, str(tensor_features[feature].shape)))"
   ]
  },
  {
   "cell_type": "markdown",
   "metadata": {},
   "source": [
    "# Saving data"
   ]
  },
  {
   "cell_type": "code",
   "execution_count": 34,
   "metadata": {},
   "outputs": [],
   "source": [
    "fout = 'lolwinner_data.npz'\n",
    "\n",
    "np.savez(fout, **tensor_features)"
   ]
  }
 ],
 "metadata": {
  "kernelspec": {
   "display_name": "Python 3",
   "language": "python",
   "name": "python3"
  },
  "language_info": {
   "codemirror_mode": {
    "name": "ipython",
    "version": 3
   },
   "file_extension": ".py",
   "mimetype": "text/x-python",
   "name": "python",
   "nbconvert_exporter": "python",
   "pygments_lexer": "ipython3",
   "version": "3.6.5"
  },
  "toc": {
   "base_numbering": 1,
   "nav_menu": {},
   "number_sections": true,
   "sideBar": true,
   "skip_h1_title": false,
   "title_cell": "Table of Contents",
   "title_sidebar": "Contents",
   "toc_cell": true,
   "toc_position": {},
   "toc_section_display": true,
   "toc_window_display": false
  },
  "varInspector": {
   "cols": {
    "lenName": 16,
    "lenType": 16,
    "lenVar": 40
   },
   "kernels_config": {
    "python": {
     "delete_cmd_postfix": "",
     "delete_cmd_prefix": "del ",
     "library": "var_list.py",
     "varRefreshCmd": "print(var_dic_list())"
    },
    "r": {
     "delete_cmd_postfix": ") ",
     "delete_cmd_prefix": "rm(",
     "library": "var_list.r",
     "varRefreshCmd": "cat(var_dic_list()) "
    }
   },
   "types_to_exclude": [
    "module",
    "function",
    "builtin_function_or_method",
    "instance",
    "_Feature"
   ],
   "window_display": true
  }
 },
 "nbformat": 4,
 "nbformat_minor": 2
}
