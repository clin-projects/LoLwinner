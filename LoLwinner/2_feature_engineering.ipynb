{
 "cells": [
  {
   "cell_type": "markdown",
   "metadata": {
    "toc": true
   },
   "source": [
    "<h1>Table of Contents<span class=\"tocSkip\"></span></h1>\n",
    "<div class=\"toc\"><ul class=\"toc-item\"><li><span><a href=\"#Overview\" data-toc-modified-id=\"Overview-1\"><span class=\"toc-item-num\">1&nbsp;&nbsp;</span>Overview</a></span></li><li><span><a href=\"#Imports\" data-toc-modified-id=\"Imports-2\"><span class=\"toc-item-num\">2&nbsp;&nbsp;</span>Imports</a></span></li><li><span><a href=\"#Feature-calculation\" data-toc-modified-id=\"Feature-calculation-3\"><span class=\"toc-item-num\">3&nbsp;&nbsp;</span>Feature calculation</a></span></li><li><span><a href=\"#Saving-features\" data-toc-modified-id=\"Saving-features-4\"><span class=\"toc-item-num\">4&nbsp;&nbsp;</span>Saving features</a></span></li></ul></div>"
   ]
  },
  {
   "cell_type": "markdown",
   "metadata": {},
   "source": [
    "# Overview\n",
    "\n",
    "In this step of the pipeline, we **engineer the features** used for the predictive model, using data obtained from the earlier ingestion, aggregation, and consolidation steps of the pipeline.\n",
    "\n",
    "The predictive model that we are building is a **binary classifier** to predict `y = winners` (i.e., whether blue team wins or loses).\n",
    "\n",
    "We identify and calculate four features that are deemed to be predictive of the winning team: `total_gold`, `kills`, `buildings`, and `monsters`.\n",
    "\n",
    "**Engineered features used in model**\n",
    "\n",
    "| Field | Description | Dimension | Values |\n",
    "| --- | --- | --- |\n",
    "|`winners` (y)           |Match winner|scalar|1: Blue wins, 0: red wins\n",
    "|`total_gold` (x)       |Total accumulated gold (total over team)|(`num_frames`,3)|integer \n",
    "|`kills` (x)             |Number of opponent players killed by each team|(`num_frames`,3)|integer\n",
    "|`buildings` (x)         |Number of buildings destroyed by each team (5 kinds of buildings)|(`num_frames`,3,5)| integer\n",
    "|`monsters` (x)          |Number of elite monsters killed by each team (7 kinds of monsters)|(`num_frames`,3,7)| integer\n",
    "\n",
    "*Note: the second dimension is 3 for `total_gold`, `kills`, `buildings`, and `monsters` because these fields are calculated for (1) the Blue team, (2) the Red team, and (3) the difference between teams.*\n",
    "\n",
    "**Other fields**\n",
    "\n",
    "| Field | Description |\n",
    "| --- | --- | --- |\n",
    "|`current_gold`      |Current level of gold (total over team)|\n",
    "|`xp`                |Total experience (total over team)|\n",
    "|`max_current_gold`  |Current level of gold (max of single player on team)|\n",
    "|`max_total_gold`    |Total accumulated gold (max of single player on team)|\n",
    "|`max_xp`            |Total experience (max of single player on team)|\n",
    "|`champions`         |Champions (characters) selected by each player|\n",
    "|`num_frames`        |Number of frames in match; equivalently, number of minutes in match|\n",
    "|`match_ids`         |Unique 10-digit match identifier|\n",
    "|`team_stats`        |Identifies which team was first to certain achievements (e.g., first kill)\n",
    "|`duration`          |Duration of match|\n",
    "|`player_tiers`      |Skill level of player|\n",
    "|`versions`          |Version of game|\n",
    "|`game_types`        |Type of game (custom, tutorial, matched)|"
   ]
  },
  {
   "cell_type": "markdown",
   "metadata": {},
   "source": [
    "# Imports"
   ]
  },
  {
   "cell_type": "code",
   "execution_count": 113,
   "metadata": {
    "ExecuteTime": {
     "end_time": "2018-10-26T00:23:36.133597Z",
     "start_time": "2018-10-26T00:23:36.121722Z"
    }
   },
   "outputs": [],
   "source": [
    "import numpy as np\n",
    "np.set_printoptions(suppress=True)\n",
    "\n",
    "import warnings\n",
    "warnings.filterwarnings('ignore')\n",
    "\n",
    "from lib import feature_calculators, utils, match_factory\n",
    "from importlib import reload\n",
    "reload(feature_calculators);\n",
    "reload(utils);\n",
    "reload(match_factory);\n",
    "\n",
    "LOG_LEVEL = 'Off'"
   ]
  },
  {
   "cell_type": "markdown",
   "metadata": {},
   "source": [
    "# Feature calculation"
   ]
  },
  {
   "cell_type": "markdown",
   "metadata": {},
   "source": [
    "**Loading match ids**. We load the unique identifiers for matches comprising the consolidated dataset"
   ]
  },
  {
   "cell_type": "code",
   "execution_count": 114,
   "metadata": {},
   "outputs": [],
   "source": [
    "folder = './dat_challenger_only/'\n",
    "\n",
    "match_ids = utils.get_match_ids(folder)\n",
    "\n",
    "utils.log(LOG_LEVEL, str(len(match_ids)) + ' files')"
   ]
  },
  {
   "cell_type": "markdown",
   "metadata": {},
   "source": [
    "**Loading matches**. Load each match and calculate features for the given match"
   ]
  },
  {
   "cell_type": "code",
   "execution_count": 115,
   "metadata": {},
   "outputs": [],
   "source": [
    "matches = []\n",
    "for i, match_id in enumerate(match_ids):\n",
    "    if i % 500 == 0: utils.log(LOG_LEVEL, str(i))\n",
    "    match = match_factory.load(match_id)\n",
    "    if match: matches.append(match)"
   ]
  },
  {
   "cell_type": "markdown",
   "metadata": {},
   "source": [
    "**Reshaping data**. Reshape the data to get it into a format that is more easy-to-use in the analysis step"
   ]
  },
  {
   "cell_type": "code",
   "execution_count": 116,
   "metadata": {
    "ExecuteTime": {
     "end_time": "2018-10-25T22:58:24.682065Z",
     "start_time": "2018-10-25T22:58:24.650043Z"
    }
   },
   "outputs": [
    {
     "name": "stdout",
     "output_type": "stream",
     "text": [
      "winners\n",
      "current_gold\n",
      "total_gold\n",
      "xp\n",
      "max_current_gold\n",
      "max_total_gold\n",
      "max_xp\n",
      "champions\n",
      "kills\n",
      "buildings\n",
      "monsters\n",
      "num_frames\n",
      "team_stats\n",
      "duration\n",
      "versions\n",
      "game_types\n",
      "player_tiers\n"
     ]
    }
   ],
   "source": [
    "features = match_factory.transpose_matches_to_features(matches)\n",
    "tensor_features = feature_calculators.calculate_tensor_features(features)\n",
    "for feature in tensor_features:\n",
    "    print(feature)"
   ]
  },
  {
   "cell_type": "markdown",
   "metadata": {},
   "source": [
    "# Saving features"
   ]
  },
  {
   "cell_type": "code",
   "execution_count": 117,
   "metadata": {},
   "outputs": [],
   "source": [
    "fout = 'lolwinner_data.npz'\n",
    "\n",
    "np.savez(fout, **tensor_features)"
   ]
  }
 ],
 "metadata": {
  "kernelspec": {
   "display_name": "Python 3",
   "language": "python",
   "name": "python3"
  },
  "language_info": {
   "codemirror_mode": {
    "name": "ipython",
    "version": 3
   },
   "file_extension": ".py",
   "mimetype": "text/x-python",
   "name": "python",
   "nbconvert_exporter": "python",
   "pygments_lexer": "ipython3",
   "version": "3.6.5"
  },
  "toc": {
   "base_numbering": 1,
   "nav_menu": {},
   "number_sections": true,
   "sideBar": true,
   "skip_h1_title": false,
   "title_cell": "Table of Contents",
   "title_sidebar": "Contents",
   "toc_cell": true,
   "toc_position": {},
   "toc_section_display": true,
   "toc_window_display": false
  },
  "varInspector": {
   "cols": {
    "lenName": 16,
    "lenType": 16,
    "lenVar": 40
   },
   "kernels_config": {
    "python": {
     "delete_cmd_postfix": "",
     "delete_cmd_prefix": "del ",
     "library": "var_list.py",
     "varRefreshCmd": "print(var_dic_list())"
    },
    "r": {
     "delete_cmd_postfix": ") ",
     "delete_cmd_prefix": "rm(",
     "library": "var_list.r",
     "varRefreshCmd": "cat(var_dic_list()) "
    }
   },
   "types_to_exclude": [
    "module",
    "function",
    "builtin_function_or_method",
    "instance",
    "_Feature"
   ],
   "window_display": true
  }
 },
 "nbformat": 4,
 "nbformat_minor": 2
}
